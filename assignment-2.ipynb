{
 "cells": [
  {
   "cell_type": "code",
   "execution_count": 1,
   "id": "fb15d305",
   "metadata": {},
   "outputs": [
    {
     "name": "stdout",
     "output_type": "stream",
     "text": [
      "\n",
      "1. Add item to the list\n",
      "2. Remove item from the list\n",
      "3. Display the current list\n",
      "4. Quit\n",
      "Enter your choice (1/2/3/4): \n",
      "Invalid choice. Please enter 1, 2, 3, or 4.\n",
      "\n",
      "1. Add item to the list\n",
      "2. Remove item from the list\n",
      "3. Display the current list\n",
      "4. Quit\n",
      "Enter your choice (1/2/3/4): \n",
      "Invalid choice. Please enter 1, 2, 3, or 4.\n",
      "\n",
      "1. Add item to the list\n",
      "2. Remove item from the list\n",
      "3. Display the current list\n",
      "4. Quit\n",
      "Enter your choice (1/2/3/4): \n",
      "Invalid choice. Please enter 1, 2, 3, or 4.\n",
      "\n",
      "1. Add item to the list\n",
      "2. Remove item from the list\n",
      "3. Display the current list\n",
      "4. Quit\n",
      "Enter your choice (1/2/3/4): 4\n",
      "Goodbye!\n"
     ]
    }
   ],
   "source": [
    "\n",
    "grocery_list = {}\n",
    "\n",
    "\n",
    "def add_item(item, quantity):\n",
    "    grocery_list[item] = quantity\n",
    "    print(f\"{item} added to the list.\")\n",
    "\n",
    "\n",
    "def remove_item(item):\n",
    "    if item in grocery_list:\n",
    "        del grocery_list[item]\n",
    "        print(f\"{item} removed from the list.\")\n",
    "    else:\n",
    "        print(f\"{item} is not in the list.\")\n",
    "\n",
    "\n",
    "def display_list():\n",
    "    if grocery_list:\n",
    "        print(\"Current Grocery List:\")\n",
    "        for item, quantity in grocery_list.items():\n",
    "            print(f\"{item}: {quantity}\")\n",
    "    else:\n",
    "        print(\"The grocery list is empty.\")\n",
    "\n",
    "# Main program loop\n",
    "while True:\n",
    "    print(\"\\n1. Add item to the list\")\n",
    "    print(\"2. Remove item from the list\")\n",
    "    print(\"3. Display the current list\")\n",
    "    print(\"4. Quit\")\n",
    "\n",
    "    choice = input(\"Enter your choice (1/2/3/4): \")\n",
    "\n",
    "    if choice == \"1\":\n",
    "        item = input(\"Enter item name: \")\n",
    "        quantity = int(input(\"Enter quantity: \"))\n",
    "        add_item(item, quantity)\n",
    "    elif choice == \"2\":\n",
    "        item = input(\"Enter item name to remove: \")\n",
    "        remove_item(item)\n",
    "    elif choice == \"3\":\n",
    "        display_list()\n",
    "    elif choice == \"4\":\n",
    "        print(\"Goodbye!\")\n",
    "        break\n",
    "    else:\n",
    "        print(\"Invalid choice. Please enter 1, 2, 3, or 4.\")"
   ]
  },
  {
   "cell_type": "markdown",
   "id": "67afcca6",
   "metadata": {},
   "source": [
    "# PROGRAM-2"
   ]
  },
  {
   "cell_type": "code",
   "execution_count": 2,
   "id": "0da701ff",
   "metadata": {},
   "outputs": [],
   "source": [
    "grades = []"
   ]
  },
  {
   "cell_type": "code",
   "execution_count": 3,
   "id": "6711a946",
   "metadata": {},
   "outputs": [
    {
     "name": "stdout",
     "output_type": "stream",
     "text": [
      "Enter grade for student 1: 56\n",
      "Enter grade for student 2: 5\n",
      "Enter grade for student 3: 56\n",
      "Enter grade for student 4: 77\n",
      "Enter grade for student 5: 88\n",
      "The average grade is: 56.4\n"
     ]
    }
   ],
   "source": [
    "num_students = 5  # Change this to the desired number of students\n",
    "\n",
    "for i in range(num_students):\n",
    "    grade = float(input(f\"Enter grade for student {i+1}: \"))\n",
    "    grades.append(grade)\n",
    "grade_sum = sum(grades)\n",
    "average_grade = grade_sum / len(grades)\n",
    "print(f\"The average grade is: {average_grade}\")"
   ]
  },
  {
   "cell_type": "markdown",
   "id": "bb6a7da4",
   "metadata": {},
   "source": [
    "# Program-3"
   ]
  },
  {
   "cell_type": "code",
   "execution_count": 4,
   "id": "0cda2fb6",
   "metadata": {},
   "outputs": [
    {
     "name": "stdout",
     "output_type": "stream",
     "text": [
      "The word 'apple' appears 3 times.\n",
      "The word 'banana' appears 2 times.\n",
      "The word 'orange' appears 1 times.\n",
      "The word 'grape' appears 1 times.\n"
     ]
    }
   ],
   "source": [
    "word_freq = {}\n",
    "\n",
    "words_list = [\"apple\", \"banana\", \"apple\", \"orange\", \"banana\", \"grape\", \"apple\"]\n",
    "for word in words_list:\n",
    "    if word in word_freq:\n",
    "        word_freq[word] += 1\n",
    "    else:\n",
    "        word_freq[word] = 1\n",
    "for word, freq in word_freq.items():\n",
    "    print(f\"The word '{word}' appears {freq} times.\")"
   ]
  },
  {
   "cell_type": "markdown",
   "id": "e4baed1d",
   "metadata": {},
   "source": [
    "# Program - 4"
   ]
  },
  {
   "cell_type": "code",
   "execution_count": 6,
   "id": "3a8f554e",
   "metadata": {},
   "outputs": [
    {
     "name": "stdout",
     "output_type": "stream",
     "text": [
      "Enter a password: tty123456qwe]'\n",
      "Password is strong!\n"
     ]
    }
   ],
   "source": [
    "def check_password_strength(password):\n",
    "    \n",
    "    if len(password) < 8:\n",
    "        return \"Password is too short. It should be at least 8 characters long.\"\n",
    "\n",
    "    \n",
    "    if not any(char.isdigit() for char in password):\n",
    "        return \"Password should contain at least one digit.\"\n",
    "\n",
    "    \n",
    "    if not any(char.isalpha() for char in password):\n",
    "        return \"Password should contain at least one letter.\"\n",
    "\n",
    "    return \"Password is strong!\"\n",
    "\n",
    "\n",
    "password = input(\"Enter a password: \")\n",
    "strength = check_password_strength(password)\n",
    "print(strength)"
   ]
  },
  {
   "cell_type": "markdown",
   "id": "4edfa1b1",
   "metadata": {},
   "source": [
    "# Program - 5"
   ]
  },
  {
   "cell_type": "code",
   "execution_count": 7,
   "id": "3084f7ab",
   "metadata": {},
   "outputs": [
    {
     "name": "stdout",
     "output_type": "stream",
     "text": [
      "Welcome to the Annual Employee Recognition Awards Voting System!\n",
      "\n",
      "Enter the number of voters participating: 3\n",
      "\n",
      "List of Candidates:\n",
      "1. Candidate A\n",
      "2. Candidate B\n",
      "3. Candidate C\n",
      "\n",
      "Enter the number of your preferred candidate: 5\n",
      "Invalid choice! Please enter a number within the valid range.\n",
      "\n",
      "Enter the number of your preferred candidate: 7\n",
      "Invalid choice! Please enter a number within the valid range.\n",
      "\n",
      "Enter the number of your preferred candidate: 1\n",
      "Your vote has been recorded.\n",
      "\n",
      "List of Candidates:\n",
      "1. Candidate A\n",
      "2. Candidate B\n",
      "3. Candidate C\n",
      "\n",
      "Enter the number of your preferred candidate: 4\n",
      "Invalid choice! Please enter a number within the valid range.\n",
      "\n",
      "Enter the number of your preferred candidate: 2\n",
      "Your vote has been recorded.\n",
      "\n",
      "List of Candidates:\n",
      "1. Candidate A\n",
      "2. Candidate B\n",
      "3. Candidate C\n",
      "\n",
      "Enter the number of your preferred candidate: 2\n",
      "Your vote has been recorded.\n",
      "\n",
      "Voting Results:\n",
      "Candidate A: 1 votes\n",
      "Candidate B: 2 votes\n",
      "Candidate C: 0 votes\n"
     ]
    }
   ],
   "source": [
    "candidates = ['Candidate A', 'Candidate B', 'Candidate C']\n",
    "votes = {candidate: 0 for candidate in candidates}\n",
    "\n",
    "print(\"Welcome to the Annual Employee Recognition Awards Voting System!\\n\")\n",
    "\n",
    "try:\n",
    "    voter_count = int(input(\"Enter the number of voters participating: \"))\n",
    "except ValueError:\n",
    "    print(\"Invalid input! Please enter a valid number.\")\n",
    "    exit()\n",
    "\n",
    "for _ in range(voter_count):\n",
    "    print(\"\\nList of Candidates:\")\n",
    "    for index, candidate in enumerate(candidates, start=1):\n",
    "        print(f\"{index}. {candidate}\")\n",
    "\n",
    "    while True:\n",
    "        try:\n",
    "            choice = int(input(\"\\nEnter the number of your preferred candidate: \"))\n",
    "            if 1 <= choice <= len(candidates):\n",
    "                votes[candidates[choice - 1]] += 1\n",
    "                print(\"Your vote has been recorded.\")\n",
    "                break\n",
    "            else:\n",
    "                print(\"Invalid choice! Please enter a number within the valid range.\")\n",
    "        except ValueError:\n",
    "            print(\"Invalid input! Please enter a valid number.\")\n",
    "\n",
    "print(\"\\nVoting Results:\")\n",
    "for candidate, vote_count in votes.items():\n",
    "    print(f\"{candidate}: {vote_count} votes\")\n"
   ]
  },
  {
   "cell_type": "markdown",
   "id": "4ea0b171",
   "metadata": {},
   "source": [
    "### Program - 6"
   ]
  },
  {
   "cell_type": "code",
   "execution_count": 8,
   "id": "8824232c",
   "metadata": {},
   "outputs": [
    {
     "name": "stdout",
     "output_type": "stream",
     "text": [
      "Enter the name of Student 1: 5\n",
      "Enter the CGPA grades for 5 (separated by spaces): 2.2\n",
      "Enter the name of Student 2: 3\n",
      "Enter the CGPA grades for 3 (separated by spaces): 2.5\n",
      "Enter the name of Student 3: 1\n",
      "Enter the CGPA grades for 1 (separated by spaces): 2\n",
      "Enter the name of Student 4: 5\n",
      "Enter the CGPA grades for 5 (separated by spaces): 3.0\n",
      "Enter the name of Student 5: 4\n",
      "Enter the CGPA grades for 4 (separated by spaces): 2.4\n",
      "Average CGPA: 2.475\n"
     ]
    }
   ],
   "source": [
    "\n",
    "students_cgpas = {}\n",
    "\n",
    "\n",
    "for i in range(1, 6):  # Assuming at least 5 students\n",
    "    student_name = input(f\"Enter the name of Student {i}: \")\n",
    "    cgpas_str = input(f\"Enter the CGPA grades for {student_name} (separated by spaces): \")\n",
    "    cgpas = [float(cgpa) for cgpa in cgpas_str.split()]\n",
    "    students_cgpas[student_name] = cgpas\n",
    "\n",
    "\n",
    "total_cgpas = 0\n",
    "for cgpas in students_cgpas.values():\n",
    "    total_cgpas += sum(cgpas) / len(cgpas)\n",
    "average_cgpa = total_cgpas / len(students_cgpas)\n",
    "\n",
    "# Output the average CGPA\n",
    "print(\"Average CGPA:\", average_cgpa)"
   ]
  },
  {
   "cell_type": "code",
   "execution_count": null,
   "id": "33d0666b",
   "metadata": {},
   "outputs": [],
   "source": []
  }
 ],
 "metadata": {
  "kernelspec": {
   "display_name": "Python 3 (ipykernel)",
   "language": "python",
   "name": "python3"
  },
  "language_info": {
   "codemirror_mode": {
    "name": "ipython",
    "version": 3
   },
   "file_extension": ".py",
   "mimetype": "text/x-python",
   "name": "python",
   "nbconvert_exporter": "python",
   "pygments_lexer": "ipython3",
   "version": "3.11.5"
  }
 },
 "nbformat": 4,
 "nbformat_minor": 5
}
